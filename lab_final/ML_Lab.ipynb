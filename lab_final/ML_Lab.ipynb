{
  "cells": [
    {
      "cell_type": "markdown",
      "metadata": {
        "id": "view-in-github",
        "colab_type": "text"
      },
      "source": [
        "<a href=\"https://colab.research.google.com/github/ismail61/ML_Lab/blob/master/lab_final/ML_Lab.ipynb\" target=\"_parent\"><img src=\"https://colab.research.google.com/assets/colab-badge.svg\" alt=\"Open In Colab\"/></a>"
      ]
    },
    {
      "cell_type": "markdown",
      "metadata": {
        "id": "l5vue75oLVpb"
      },
      "source": [
        "# Problem Set 01 (For ML Lab):"
      ]
    },
    {
      "cell_type": "code",
      "source": [
        "from google.colab import drive\n",
        "drive.mount('/content/drive')"
      ],
      "metadata": {
        "colab": {
          "base_uri": "https://localhost:8080/"
        },
        "id": "HxmWdaMPY_Ay",
        "outputId": "5a30359b-936f-41d4-c791-3d2ef2209cf8"
      },
      "execution_count": 6,
      "outputs": [
        {
          "output_type": "stream",
          "name": "stdout",
          "text": [
            "Mounted at /content/drive\n"
          ]
        }
      ]
    },
    {
      "cell_type": "code",
      "source": [
        "!unzip '//content/drive/MyDrive/Dataset/CNN/Dataset.zip'"
      ],
      "metadata": {
        "id": "Dx2_WYmV7u6H"
      },
      "execution_count": null,
      "outputs": []
    },
    {
      "cell_type": "code",
      "execution_count": 8,
      "metadata": {
        "id": "eh8PHQuZLVpc"
      },
      "outputs": [],
      "source": [
        "#Importing the libraries\n",
        "import os\n",
        "import cv2\n",
        "import numpy as np\n",
        "from sklearn.model_selection import train_test_split\n",
        "%matplotlib inline\n",
        "import warnings\n",
        "warnings.filterwarnings(\"ignore\")"
      ]
    },
    {
      "cell_type": "code",
      "source": [
        "dir_path = '/content/CNN_dataset'\n",
        "images = []\n",
        "labels = []\n",
        "SIZE = 64"
      ],
      "metadata": {
        "id": "yeupOPXiM_o0"
      },
      "execution_count": 9,
      "outputs": []
    },
    {
      "cell_type": "code",
      "source": [
        "for i, class_name in enumerate(['AbdomenCT', 'CXR', 'ChestCT', 'Hand', 'HeadCT']):\n",
        "  images_dir = os.path.join(dir_path, class_name)\n",
        "  for image_name in os.listdir(images_dir):\n",
        "      img_path = os.path.join(images_dir, image_name)\n",
        "      image = cv2.imread(img_path, cv2.IMREAD_GRAYSCALE)\n",
        "      image = cv2.resize(image, (SIZE, SIZE))\n",
        "      images.append(image)\n",
        "      labels.append(i)"
      ],
      "metadata": {
        "id": "Jy5N9UTqCQxj"
      },
      "execution_count": 10,
      "outputs": []
    },
    {
      "cell_type": "code",
      "source": [
        "AbdomenCT = os.listdir(dir_path + '/AbdomenCT/')\n",
        "len(AbdomenCT)"
      ],
      "metadata": {
        "colab": {
          "base_uri": "https://localhost:8080/"
        },
        "id": "RaR9v-IXDLeV",
        "outputId": "cc44c7d1-e88b-4625-8e6d-3b204ad288b4"
      },
      "execution_count": 11,
      "outputs": [
        {
          "output_type": "execute_result",
          "data": {
            "text/plain": [
              "10000"
            ]
          },
          "metadata": {},
          "execution_count": 11
        }
      ]
    },
    {
      "cell_type": "code",
      "source": [
        "from tensorflow.keras.models import Sequential\n",
        "from tensorflow.keras import layers\n",
        "from tensorflow.keras.layers import Dense, Flatten, Conv2D, Dropout, MaxPooling2D, BatchNormalization"
      ],
      "metadata": {
        "id": "vpqmpXmZGe2i"
      },
      "execution_count": 12,
      "outputs": []
    },
    {
      "cell_type": "code",
      "source": [
        "model = Sequential(\n",
        "  [\n",
        "      Conv2D(filters=64, kernel_size=(2, 2),strides=(1, 1), padding='same', activation='relu', input_shape=(SIZE, SIZE, 1)) ,\n",
        "      MaxPooling2D(pool_size=(2, 2)),\n",
        "      BatchNormalization(axis = -1),\n",
        "      Dropout(0.3),\n",
        "      Conv2D(filters=32, kernel_size=(2, 2),strides=(1, 1), padding='same', activation='relu'),\n",
        "      MaxPooling2D(pool_size=(2, 2)),\n",
        "      BatchNormalization(axis = -1),\n",
        "      Dropout(0.3),\n",
        "      Conv2D(filters=64, kernel_size=(2, 2),strides=(1, 1), padding='same', activation='relu'),\n",
        "      MaxPooling2D(pool_size=(2, 2)),\n",
        "      Flatten(),\n",
        "      Dense(256, activation='relu'),\n",
        "      BatchNormalization(axis = -1),\n",
        "      Dropout(0.3),\n",
        "      Dense(5, activation='softmax')\n",
        "  ]\n",
        ")"
      ],
      "metadata": {
        "id": "oiOSC1L8NQoq"
      },
      "execution_count": 13,
      "outputs": []
    },
    {
      "cell_type": "code",
      "source": [
        "model.summary()"
      ],
      "metadata": {
        "colab": {
          "base_uri": "https://localhost:8080/"
        },
        "id": "Xr-FYAOANfPq",
        "outputId": "4553c11e-06a6-47e9-e9af-f9911732a684"
      },
      "execution_count": 14,
      "outputs": [
        {
          "output_type": "stream",
          "name": "stdout",
          "text": [
            "Model: \"sequential\"\n",
            "_________________________________________________________________\n",
            " Layer (type)                Output Shape              Param #   \n",
            "=================================================================\n",
            " conv2d (Conv2D)             (None, 64, 64, 64)        320       \n",
            "                                                                 \n",
            " max_pooling2d (MaxPooling2D  (None, 32, 32, 64)       0         \n",
            " )                                                               \n",
            "                                                                 \n",
            " batch_normalization (BatchN  (None, 32, 32, 64)       256       \n",
            " ormalization)                                                   \n",
            "                                                                 \n",
            " dropout (Dropout)           (None, 32, 32, 64)        0         \n",
            "                                                                 \n",
            " conv2d_1 (Conv2D)           (None, 32, 32, 32)        8224      \n",
            "                                                                 \n",
            " max_pooling2d_1 (MaxPooling  (None, 16, 16, 32)       0         \n",
            " 2D)                                                             \n",
            "                                                                 \n",
            " batch_normalization_1 (Batc  (None, 16, 16, 32)       128       \n",
            " hNormalization)                                                 \n",
            "                                                                 \n",
            " dropout_1 (Dropout)         (None, 16, 16, 32)        0         \n",
            "                                                                 \n",
            " conv2d_2 (Conv2D)           (None, 16, 16, 64)        8256      \n",
            "                                                                 \n",
            " max_pooling2d_2 (MaxPooling  (None, 8, 8, 64)         0         \n",
            " 2D)                                                             \n",
            "                                                                 \n",
            " flatten (Flatten)           (None, 4096)              0         \n",
            "                                                                 \n",
            " dense (Dense)               (None, 256)               1048832   \n",
            "                                                                 \n",
            " batch_normalization_2 (Batc  (None, 256)              1024      \n",
            " hNormalization)                                                 \n",
            "                                                                 \n",
            " dropout_2 (Dropout)         (None, 256)               0         \n",
            "                                                                 \n",
            " dense_1 (Dense)             (None, 5)                 1285      \n",
            "                                                                 \n",
            "=================================================================\n",
            "Total params: 1,068,325\n",
            "Trainable params: 1,067,621\n",
            "Non-trainable params: 704\n",
            "_________________________________________________________________\n"
          ]
        }
      ]
    },
    {
      "cell_type": "code",
      "source": [
        "model.compile(loss='sparse_categorical_crossentropy', optimizer='adam', metrics=['accuracy'])"
      ],
      "metadata": {
        "id": "cJo0LCACMqXl"
      },
      "execution_count": 15,
      "outputs": []
    },
    {
      "cell_type": "code",
      "source": [
        "images = np.array(images, dtype=np.float32)\n",
        "images = np.expand_dims(images, axis=-1)\n",
        "labels = np.array(labels, dtype=np.int32)"
      ],
      "metadata": {
        "id": "CMGxifJrQW-m"
      },
      "execution_count": 16,
      "outputs": []
    },
    {
      "cell_type": "code",
      "source": [
        "x_train, x_test, y_train, y_test = train_test_split(images, labels, test_size=0.2, stratify=labels, random_state=42)"
      ],
      "metadata": {
        "id": "DG-UCaniQbvm"
      },
      "execution_count": 17,
      "outputs": []
    },
    {
      "cell_type": "code",
      "source": [
        "x_train = x_train / 255.\n",
        "x_test = x_test / 255."
      ],
      "metadata": {
        "id": "XlCKw2aLQsQz"
      },
      "execution_count": 18,
      "outputs": []
    },
    {
      "cell_type": "code",
      "source": [
        "x_train = x_train.reshape(-1, SIZE, SIZE, 1)\n",
        "x_test = x_test.reshape(-1, SIZE, SIZE, 1)"
      ],
      "metadata": {
        "id": "WWq6lktSQwmj"
      },
      "execution_count": 19,
      "outputs": []
    },
    {
      "cell_type": "code",
      "source": [
        "history = model.fit(\n",
        "    x_train,\n",
        "    y_train, \n",
        "    batch_size = 64, \n",
        "    verbose = 1, \n",
        "    epochs = 15,\n",
        "    validation_split = 0.1,\n",
        "    shuffle = False\n",
        ")"
      ],
      "metadata": {
        "colab": {
          "base_uri": "https://localhost:8080/"
        },
        "id": "MY5CJeqNaZyd",
        "outputId": "8cbe21c8-e83f-4558-e119-ab7b2c85c64f"
      },
      "execution_count": 27,
      "outputs": [
        {
          "output_type": "stream",
          "name": "stdout",
          "text": [
            "Epoch 1/15\n",
            "506/506 [==============================] - 8s 16ms/step - loss: 0.0027 - accuracy: 0.9991 - val_loss: 0.0226 - val_accuracy: 0.9939\n",
            "Epoch 2/15\n",
            "506/506 [==============================] - 8s 16ms/step - loss: 8.1910e-04 - accuracy: 0.9998 - val_loss: 0.0192 - val_accuracy: 0.9917\n",
            "Epoch 3/15\n",
            "506/506 [==============================] - 8s 16ms/step - loss: 0.0016 - accuracy: 0.9995 - val_loss: 0.0317 - val_accuracy: 0.9853\n",
            "Epoch 4/15\n",
            "506/506 [==============================] - 8s 16ms/step - loss: 0.0010 - accuracy: 0.9996 - val_loss: 0.0051 - val_accuracy: 0.9989\n",
            "Epoch 5/15\n",
            "506/506 [==============================] - 8s 16ms/step - loss: 6.8754e-04 - accuracy: 0.9998 - val_loss: 0.1126 - val_accuracy: 0.9683\n",
            "Epoch 6/15\n",
            "506/506 [==============================] - 8s 15ms/step - loss: 6.0483e-04 - accuracy: 0.9998 - val_loss: 0.0042 - val_accuracy: 0.9986\n",
            "Epoch 7/15\n",
            "506/506 [==============================] - 8s 16ms/step - loss: 0.0017 - accuracy: 0.9994 - val_loss: 1.0989 - val_accuracy: 0.7943\n",
            "Epoch 8/15\n",
            "506/506 [==============================] - 8s 16ms/step - loss: 0.0014 - accuracy: 0.9995 - val_loss: 0.0059 - val_accuracy: 0.9992\n",
            "Epoch 9/15\n",
            "506/506 [==============================] - 8s 16ms/step - loss: 1.9239e-04 - accuracy: 1.0000 - val_loss: 0.0073 - val_accuracy: 0.9983\n",
            "Epoch 10/15\n",
            "506/506 [==============================] - 8s 16ms/step - loss: 7.3661e-05 - accuracy: 1.0000 - val_loss: 0.0173 - val_accuracy: 0.9978\n",
            "Epoch 11/15\n",
            "506/506 [==============================] - 8s 15ms/step - loss: 2.9975e-05 - accuracy: 1.0000 - val_loss: 0.0523 - val_accuracy: 0.9975\n",
            "Epoch 12/15\n",
            "506/506 [==============================] - 8s 16ms/step - loss: 7.1767e-05 - accuracy: 1.0000 - val_loss: 0.0434 - val_accuracy: 0.9975\n",
            "Epoch 13/15\n",
            "506/506 [==============================] - 8s 15ms/step - loss: 0.0027 - accuracy: 0.9991 - val_loss: 0.2553 - val_accuracy: 0.9341\n",
            "Epoch 14/15\n",
            "506/506 [==============================] - 8s 16ms/step - loss: 3.0277e-04 - accuracy: 0.9999 - val_loss: 0.0023 - val_accuracy: 0.9992\n",
            "Epoch 15/15\n",
            "506/506 [==============================] - 8s 16ms/step - loss: 5.7075e-04 - accuracy: 0.9998 - val_loss: 0.0022 - val_accuracy: 0.9994\n"
          ]
        }
      ]
    },
    {
      "cell_type": "code",
      "source": [
        "print(\"Model_Accuracy: {:.2f}%\".format(model.evaluate(np.array(x_test), np.array(y_test))[1]*100))"
      ],
      "metadata": {
        "colab": {
          "base_uri": "https://localhost:8080/"
        },
        "id": "EtrSQFgec-_2",
        "outputId": "38d07282-05b1-4b8f-989b-2a4fa96c4208"
      },
      "execution_count": 28,
      "outputs": [
        {
          "output_type": "stream",
          "name": "stdout",
          "text": [
            "235/235 [==============================] - 1s 4ms/step - loss: 0.0061 - accuracy: 0.9987\n",
            "Model_Accuracy: 99.87%\n"
          ]
        }
      ]
    },
    {
      "cell_type": "code",
      "source": [
        "import matplotlib.pyplot as plt"
      ],
      "metadata": {
        "id": "IDmnwFSfboyQ"
      },
      "execution_count": 29,
      "outputs": []
    },
    {
      "cell_type": "code",
      "source": [
        "f, (ax1, ax2) = plt.subplots(1, 2, figsize=(12, 4))\n",
        "t = f.suptitle('CNN Performance', fontsize=12)\n",
        "f.subplots_adjust(top=0.85, wspace=0.3)\n",
        "\n",
        "max_epoch = len(history.history['accuracy'])+1\n",
        "epoch_list = list(range(1,max_epoch))\n",
        "ax1.plot(epoch_list, history.history['accuracy'], label='Train Accuracy')\n",
        "ax1.plot(epoch_list, history.history['val_accuracy'], label='Validation Accuracy')\n",
        "ax1.set_xticks(np.arange(1, max_epoch, 5))\n",
        "ax1.set_ylabel('Accuracy Value')\n",
        "ax1.set_xlabel('Epoch')\n",
        "ax1.set_title('Accuracy')\n",
        "l1 = ax1.legend(loc=\"best\")\n",
        "\n",
        "ax2.plot(epoch_list, history.history['loss'], label='Train Loss')\n",
        "ax2.plot(epoch_list, history.history['val_loss'], label='Validation Loss')\n",
        "ax2.set_xticks(np.arange(1, max_epoch, 5))\n",
        "ax2.set_ylabel('Loss Value')\n",
        "ax2.set_xlabel('Epoch')\n",
        "ax2.set_title('Loss')\n",
        "l2 = ax2.legend(loc=\"best\")"
      ],
      "metadata": {
        "colab": {
          "base_uri": "https://localhost:8080/",
          "height": 308
        },
        "id": "6uUA_uz-bijp",
        "outputId": "ef6018ae-bbe2-4e7b-a1ec-a45899c7b30e"
      },
      "execution_count": 31,
      "outputs": [
        {
          "output_type": "display_data",
          "data": {
            "text/plain": [
              "<Figure size 864x288 with 2 Axes>"
            ],
            "image/png": "[encoded data removed]"
          },
          "metadata": {
            "needs_background": "light"
          }
        }
      ]
    }
  ],
  "metadata": {
    "kernelspec": {
      "display_name": "Python 3",
      "language": "python",
      "name": "python3"
    },
    "language_info": {
      "codemirror_mode": {
        "name": "ipython",
        "version": 3
      },
      "file_extension": ".py",
      "mimetype": "text/x-python",
      "name": "python",
      "nbconvert_exporter": "python",
      "pygments_lexer": "ipython3",
      "version": "3.8.2"
    },
    "colab": {
      "provenance": [],
      "include_colab_link": true
    },
    "accelerator": "GPU",
    "gpuClass": "standard"
  },
  "nbformat": 4,
  "nbformat_minor": 0
}